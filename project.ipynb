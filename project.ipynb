{
 "cells": [
  {
   "cell_type": "code",
   "execution_count": 77,
   "metadata": {},
   "outputs": [],
   "source": [
    "import pandas as pd\n",
    "import numpy as np\n",
    "#pd.set_option(\"display.max_columns\", 4)\n",
    "dataset=pd.read_csv('./communities.data',sep=',',engine='python')\n",
    "list_of_rows = [list(row) for row in dataset.values]\n",
    "# print(dataset)"
   ]
  },
  {
   "cell_type": "code",
   "execution_count": 78,
   "metadata": {},
   "outputs": [],
   "source": [
    "dataframe=pd.DataFrame(list_of_rows,columns=['state','county','community','communityname','fold','population','householdsize','racepctblack','racePctWhite','racePctAsian','racePctHisp','agePct12t21','agePct12t29','agePct16t24','agePct65up','numbUrban','pctUrban','medIncome','pctWWage','pctWFarmSelf','pctWInvInc','pctWSocSec','pctWPubAsst','pctWRetire','medFamInc','perCapInc','whitePerCap','blackPerCap','indianPerCap','AsianPerCap','OtherPerCap','HispPerCap','NumUnderPov','PctPopUnderPov','PctLess9thGrade','PctNotHSGrad','PctBSorMore','PctUnemployed','PctEmploy','PctEmplManu','PctEmplProfServ','PctOccupManu','PctOccupMgmtProf','MalePctDivorce','MalePctNevMarr','FemalePctDiv','TotalPctDiv','PersPerFam','PctFam2Par','PctKids2Par','PctYoungKids2Par','PctTeen2Par','PctWorkMomYoungKids','PctWorkMom','NumIlleg','PctIlleg','NumImmig','PctImmigRecent','PctImmigRec5','PctImmigRec8','PctImmigRec10','PctRecentImmig','PctRecImmig5','PctRecImmig8','PctRecImmig10','PctSpeakEnglOnly','PctNotSpeakEnglWell','PctLargHouseFam','PctLargHouseOccup','PersPerOccupHous','PersPerOwnOccHous','PersPerRentOccHous','PctPersOwnOccup','PctPersDenseHous','PctHousLess3BR','MedNumBR','HousVacant','PctHousOccup','PctHousOwnOcc','PctVacantBoarded','PctVacMore6Mos','MedYrHousBuilt','PctHousNoPhone','PctWOFullPlumb','OwnOccLowQuart','OwnOccMedVal','OwnOccHiQuart','RentLowQ','RentMedian','RentHighQ','MedRent','MedRentPctHousInc','MedOwnCostPctInc','MedOwnCostPctIncNoMtg','NumInShelters','NumStreet','PctForeignBorn','PctBornSameState','PctSameHouse85','PctSameCity85','PctSameState85','LemasSwornFT','LemasSwFTPerPop','LemasSwFTFieldOps','LemasSwFTFieldPerPop','LemasTotalReq','LemasTotReqPerPop','PolicReqPerOffic','PolicPerPop','RacialMatchCommPol','PctPolicWhite','PctPolicBlack','PctPolicHisp','PctPolicAsian','PctPolicMinor','OfficAssgnDrugUnits','NumKindsDrugsSeiz','PolicAveOTWorked','LandArea','PopDens','PctUsePubTrans','PolicCars','PolicOperBudg','LemasPctPolicOnPatr','LemasGangUnitDeploy','LemasPctOfficDrugUn','PolicBudgPerPop','ViolentCrimesPerPop'])\n",
    "dataframe = dataframe.replace('?', np.nan)\n",
    "#All numerical attributes are already normalised\n",
    "# print(dataframe)"
   ]
  },
  {
   "cell_type": "code",
   "execution_count": 79,
   "metadata": {
    "scrolled": true
   },
   "outputs": [
    {
     "name": "stdout",
     "output_type": "stream",
     "text": [
      "     population  householdsize  racepctblack  racePctWhite  racePctAsian  \\\n",
      "0     -0.062765       2.460495      3.925521     -3.655542      0.007427   \n",
      "1     -0.327091       0.742355     -0.489374      0.495398     -0.214562   \n",
      "2     -0.327091      -0.507202     -0.579474      0.638534     -0.436550   \n",
      "3     -0.150874       0.117576     -0.534424      0.543110      0.081423   \n",
      "4     -0.327091      -0.116716     -0.579474      0.638534     -0.584543   \n",
      "..          ...            ...           ...           ...           ...   \n",
      "812   -0.327091      -0.194813     -0.534424      0.638534     -0.658539   \n",
      "813    0.025343       0.508063     -0.489374      0.590822     -0.584543   \n",
      "814   -0.327091       1.523328     -0.579474      0.733958     -0.806532   \n",
      "815    0.994537      -0.663397      0.546775     -0.745113     -0.584543   \n",
      "816    0.289669       0.429965     -0.309174      0.113703      0.747389   \n",
      "\n",
      "     racePctHisp  agePct12t21  agePct12t29  agePct16t24  agePct65up  ...  \\\n",
      "0       0.297569     0.852068     0.254156     0.164780   -1.585206  ...   \n",
      "1      -0.123480    -0.080038    -0.686125    -0.579752   -0.581501  ...   \n",
      "2      -0.376110    -0.653641    -0.764482    -0.579752    1.024425  ...   \n",
      "3      -0.376110    -0.725342    -1.156266    -0.782806    0.489116  ...   \n",
      "4      -0.460320    -0.295139     0.489226     0.029410   -1.451378  ...   \n",
      "..           ...          ...          ...          ...         ...  ...   \n",
      "812    -0.376110     0.278464    -0.215985    -0.376698   -0.648415  ...   \n",
      "813    -0.376110     0.063363    -0.294341    -0.173644   -0.380761  ...   \n",
      "814    -0.460320     0.063363    -0.215985    -0.444383   -0.581501  ...   \n",
      "815     1.560719    -0.295139     0.254156    -0.038275    0.622944  ...   \n",
      "816     0.297569     1.353971     2.134719     2.127636   -0.246933  ...   \n",
      "\n",
      "     PctForeignBorn  PctBornSameState  PctSameHouse85  PctSameCity85  \\\n",
      "0         -0.039317         -2.131035        0.566529      -0.288533   \n",
      "1         -0.479341          0.252962       -0.009240      -0.458572   \n",
      "2         -0.259329          0.763818        0.822426       1.241822   \n",
      "3          0.125692         -0.087609        1.142298      -0.175173   \n",
      "4         -0.919366          1.047627       -1.352701      -1.252089   \n",
      "..              ...               ...             ...            ...   \n",
      "812       -0.919366          0.934104        0.438580       0.845063   \n",
      "813       -0.094320          0.252962        0.822426       0.788383   \n",
      "814       -0.754357          0.536771        0.054734       0.845063   \n",
      "815        0.290702          0.025915       -0.201163       0.561664   \n",
      "816        1.390763         -0.201133       -0.648983      -0.571932   \n",
      "\n",
      "     PctSameState85  LandArea   PopDens  PctUsePubTrans  LemasPctOfficDrugUn  \\\n",
      "0         -0.315917 -0.467900  0.611405        0.114891            -0.377215   \n",
      "1         -1.005419 -0.230610 -0.662659       -0.809896            -0.377215   \n",
      "2          0.775796 -0.111965 -0.705127       -0.667621            -0.377215   \n",
      "3          0.143752 -0.349255 -0.280440        1.217522            -0.377215   \n",
      "4         -0.086082  0.243970 -0.875003       -0.881034            -0.377215   \n",
      "..              ...       ...       ...             ...                  ...   \n",
      "812        0.833255 -0.467900 -0.407846       -0.667621            -0.377215   \n",
      "813        0.833255  0.481260 -0.662659       -0.774328            -0.377215   \n",
      "814        0.028835  1.193130 -0.959940       -0.809896            -0.377215   \n",
      "815        0.316128  0.243970  0.314123       -0.240796             3.729502   \n",
      "816       -1.062878 -0.349255  0.568936        0.292735             0.615618   \n",
      "\n",
      "     ViolentCrimesPerPop  \n",
      "0              -0.185152  \n",
      "1              -0.635955  \n",
      "2              -0.635955  \n",
      "3              -0.485688  \n",
      "4              -0.335420  \n",
      "..                   ...  \n",
      "812            -0.084974  \n",
      "813            -0.686045  \n",
      "814            -0.585866  \n",
      "815             0.365829  \n",
      "816             0.165472  \n",
      "\n",
      "[817 rows x 101 columns]\n"
     ]
    }
   ],
   "source": [
    "limitPer = len(dataframe) * .20 #delete columns with 20% missing values\n",
    "dataframe = dataframe.dropna(thresh=limitPer, axis=1)\n",
    "dataframe=dataframe.dropna() # delete rows with missing values\n",
    "dataframe=dataframe.reset_index(drop = True) #resets row index\n",
    "#removing columns not used for predictive purposes\n",
    "dataframe=dataframe.drop(['state'], axis = 1)\n",
    "dataframe=dataframe.drop(['county'], axis = 1)\n",
    "dataframe=dataframe.drop(['community'], axis = 1)\n",
    "dataframe=dataframe.drop(['communityname'], axis = 1)\n",
    "dataframe=dataframe.drop(['fold'], axis = 1)\n",
    "# zscore standardisation\n",
    "for col in dataframe.columns[dataframe.dtypes == 'float64']:\n",
    "    dataframe[col] = (dataframe[col] - dataframe[col].mean())/dataframe[col].std(ddof=0)\n",
    "print(dataframe)\n",
    "# print(dataframe.dtypes)"
   ]
  }
 ],
 "metadata": {
  "kernelspec": {
   "display_name": "Python 3",
   "language": "python",
   "name": "python3"
  },
  "language_info": {
   "codemirror_mode": {
    "name": "ipython",
    "version": 3
   },
   "file_extension": ".py",
   "mimetype": "text/x-python",
   "name": "python",
   "nbconvert_exporter": "python",
   "pygments_lexer": "ipython3",
   "version": "3.9.5"
  }
 },
 "nbformat": 4,
 "nbformat_minor": 2
}
