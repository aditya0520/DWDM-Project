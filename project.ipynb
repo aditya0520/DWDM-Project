{
 "cells": [
  {
   "cell_type": "code",
   "execution_count": 24,
   "metadata": {},
   "outputs": [],
   "source": [
    "import pandas as pd\n",
    "import numpy as np\n",
    "from sklearn.preprocessing import MinMaxScaler\n",
    "#pd.set_option(\"display.max_columns\", 4)\n",
    "dataset=pd.read_csv('./communities.data',sep=',',engine='python')\n",
    "list_of_rows = [list(row) for row in dataset.values]\n",
    "# print(dataset)"
   ]
  },
  {
   "cell_type": "code",
   "execution_count": 25,
   "metadata": {},
   "outputs": [],
   "source": [
    "dataframe=pd.DataFrame(list_of_rows,columns=['state','county','community','communityname','fold','population','householdsize','racepctblack','racePctWhite','racePctAsian','racePctHisp','agePct12t21','agePct12t29','agePct16t24','agePct65up','numbUrban','pctUrban','medIncome','pctWWage','pctWFarmSelf','pctWInvInc','pctWSocSec','pctWPubAsst','pctWRetire','medFamInc','perCapInc','whitePerCap','blackPerCap','indianPerCap','AsianPerCap','OtherPerCap','HispPerCap','NumUnderPov','PctPopUnderPov','PctLess9thGrade','PctNotHSGrad','PctBSorMore','PctUnemployed','PctEmploy','PctEmplManu','PctEmplProfServ','PctOccupManu','PctOccupMgmtProf','MalePctDivorce','MalePctNevMarr','FemalePctDiv','TotalPctDiv','PersPerFam','PctFam2Par','PctKids2Par','PctYoungKids2Par','PctTeen2Par','PctWorkMomYoungKids','PctWorkMom','NumIlleg','PctIlleg','NumImmig','PctImmigRecent','PctImmigRec5','PctImmigRec8','PctImmigRec10','PctRecentImmig','PctRecImmig5','PctRecImmig8','PctRecImmig10','PctSpeakEnglOnly','PctNotSpeakEnglWell','PctLargHouseFam','PctLargHouseOccup','PersPerOccupHous','PersPerOwnOccHous','PersPerRentOccHous','PctPersOwnOccup','PctPersDenseHous','PctHousLess3BR','MedNumBR','HousVacant','PctHousOccup','PctHousOwnOcc','PctVacantBoarded','PctVacMore6Mos','MedYrHousBuilt','PctHousNoPhone','PctWOFullPlumb','OwnOccLowQuart','OwnOccMedVal','OwnOccHiQuart','RentLowQ','RentMedian','RentHighQ','MedRent','MedRentPctHousInc','MedOwnCostPctInc','MedOwnCostPctIncNoMtg','NumInShelters','NumStreet','PctForeignBorn','PctBornSameState','PctSameHouse85','PctSameCity85','PctSameState85','LemasSwornFT','LemasSwFTPerPop','LemasSwFTFieldOps','LemasSwFTFieldPerPop','LemasTotalReq','LemasTotReqPerPop','PolicReqPerOffic','PolicPerPop','RacialMatchCommPol','PctPolicWhite','PctPolicBlack','PctPolicHisp','PctPolicAsian','PctPolicMinor','OfficAssgnDrugUnits','NumKindsDrugsSeiz','PolicAveOTWorked','LandArea','PopDens','PctUsePubTrans','PolicCars','PolicOperBudg','LemasPctPolicOnPatr','LemasGangUnitDeploy','LemasPctOfficDrugUn','PolicBudgPerPop','ViolentCrimesPerPop'])\n",
    "dataframe = dataframe.replace('?', np.nan)"
   ]
  },
  {
   "cell_type": "code",
   "execution_count": 26,
   "metadata": {},
   "outputs": [
    {
     "name": "stdout",
     "output_type": "stream",
     "text": [
      "         state county community        communityname  fold  population  \\\n",
      "2     0.571429      5     81440  Willingborotownship   0.0        0.04   \n",
      "3     0.734694     95      6096    Bethlehemtownship   0.0        0.01   \n",
      "5     0.775510      7     41500          Lincolntown   0.0        0.01   \n",
      "11    0.387755     21     44105          Needhamtown   0.0        0.03   \n",
      "12    1.000000     87     30075       GrandChutetown   0.0        0.01   \n",
      "...        ...    ...       ...                  ...   ...         ...   \n",
      "1983  0.673469     95     48342           Maumeecity   1.0        0.01   \n",
      "1985  0.061224      3     70550      Southingtontown   1.0        0.05   \n",
      "1986  0.775510      7     11800     Burrillvilletown   1.0        0.01   \n",
      "1990  0.061224      9     80070        Waterburytown   1.0        0.16   \n",
      "1991  0.387755     17     72600          Walthamcity   1.0        0.08   \n",
      "\n",
      "      householdsize  racepctblack  racePctWhite  racePctAsian  ...  \\\n",
      "2          0.752688          1.00          0.08      0.111111  ...   \n",
      "3          0.516129          0.02          0.95      0.080808  ...   \n",
      "5          0.344086          0.00          0.98      0.050505  ...   \n",
      "11         0.430108          0.01          0.96      0.121212  ...   \n",
      "12         0.397849          0.00          0.98      0.030303  ...   \n",
      "...             ...           ...           ...           ...  ...   \n",
      "1983       0.387097          0.01          0.98      0.020202  ...   \n",
      "1985       0.483871          0.02          0.97      0.030303  ...   \n",
      "1986       0.623656          0.00          1.00      0.000000  ...   \n",
      "1990       0.322581          0.25          0.69      0.030303  ...   \n",
      "1991       0.473118          0.06          0.87      0.212121  ...   \n",
      "\n",
      "      PctForeignBorn  PctBornSameState  PctSameHouse85  PctSameCity85  \\\n",
      "2               0.19              0.30        0.724490           0.64   \n",
      "3               0.11              0.72        0.632653           0.61   \n",
      "5               0.15              0.81        0.765306           0.91   \n",
      "11              0.22              0.66        0.816327           0.66   \n",
      "12              0.03              0.86        0.418367           0.47   \n",
      "...              ...               ...             ...            ...   \n",
      "1983            0.03              0.84        0.704082           0.84   \n",
      "1985            0.18              0.72        0.765306           0.83   \n",
      "1986            0.06              0.77        0.642857           0.84   \n",
      "1990            0.25              0.68        0.602041           0.79   \n",
      "1991            0.45              0.64        0.530612           0.59   \n",
      "\n",
      "      PctSameState85  LandArea  PopDens  PctUsePubTrans  LemasPctOfficDrugUn  \\\n",
      "2           0.670103      0.02     0.39            0.28                 0.00   \n",
      "3           0.546392      0.04     0.09            0.02                 0.00   \n",
      "5           0.865979      0.05     0.08            0.06                 0.00   \n",
      "11          0.752577      0.03     0.18            0.59                 0.00   \n",
      "12          0.711340      0.08     0.04            0.00                 0.00   \n",
      "...              ...       ...      ...             ...                  ...   \n",
      "1983        0.876289      0.02     0.15            0.06                 0.00   \n",
      "1985        0.876289      0.10     0.09            0.03                 0.00   \n",
      "1986        0.731959      0.16     0.02            0.02                 0.00   \n",
      "1990        0.783505      0.08     0.32            0.18                 0.91   \n",
      "1991        0.536082      0.03     0.38            0.33                 0.22   \n",
      "\n",
      "      ViolentCrimesPerPop  \n",
      "2                    0.12  \n",
      "3                    0.03  \n",
      "5                    0.03  \n",
      "11                   0.06  \n",
      "12                   0.09  \n",
      "...                   ...  \n",
      "1983                 0.14  \n",
      "1985                 0.02  \n",
      "1986                 0.04  \n",
      "1990                 0.23  \n",
      "1991                 0.19  \n",
      "\n",
      "[817 rows x 106 columns]\n"
     ]
    }
   ],
   "source": [
    "limitPer = len(dataframe) * .20 #delete columns with 20% missing values\n",
    "dataframe = dataframe.dropna(thresh=limitPer, axis=1)\n",
    "dataframe=dataframe.dropna() # delete rows with missing values\n",
    "def normalise(datatype):\n",
    "    minmax = MinMaxScaler()\n",
    "    for x in dataframe.columns[dataframe.dtypes == datatype]:\n",
    "        dataframe[x] = minmax.fit_transform(np.array(dataframe[x]).reshape(-1,1))\n",
    "normalise('int64')\n",
    "normalise('float')\n",
    "print(dataframe)\n",
    "#print(dataframe.dtypes)"
   ]
  },
  {
   "cell_type": "code",
   "execution_count": null,
   "metadata": {},
   "outputs": [],
   "source": []
  },
  {
   "cell_type": "code",
   "execution_count": null,
   "metadata": {},
   "outputs": [],
   "source": []
  },
  {
   "cell_type": "code",
   "execution_count": null,
   "metadata": {},
   "outputs": [],
   "source": []
  }
 ],
 "metadata": {
  "kernelspec": {
   "display_name": "Python 3",
   "language": "python",
   "name": "python3"
  },
  "language_info": {
   "codemirror_mode": {
    "name": "ipython",
    "version": 3
   },
   "file_extension": ".py",
   "mimetype": "text/x-python",
   "name": "python",
   "nbconvert_exporter": "python",
   "pygments_lexer": "ipython3",
   "version": "3.9.5"
  }
 },
 "nbformat": 4,
 "nbformat_minor": 2
}
